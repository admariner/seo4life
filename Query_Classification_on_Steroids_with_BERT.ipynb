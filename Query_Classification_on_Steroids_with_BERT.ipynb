{
  "nbformat": 4,
  "nbformat_minor": 0,
  "metadata": {
    "colab": {
      "name": "Query Classification on Steroids with BERT.ipynb",
      "provenance": [],
      "authorship_tag": "ABX9TyM78lCN6FrtckqlOivG2g9s",
      "include_colab_link": true
    },
    "kernelspec": {
      "name": "python3",
      "display_name": "Python 3"
    }
  },
  "cells": [
    {
      "cell_type": "markdown",
      "metadata": {
        "id": "view-in-github",
        "colab_type": "text"
      },
      "source": [
        "<a href=\"https://colab.research.google.com/github/hamletbatista/seo4life/blob/master/Query_Classification_on_Steroids_with_BERT.ipynb\" target=\"_parent\"><img src=\"https://colab.research.google.com/assets/colab-badge.svg\" alt=\"Open In Colab\"/></a>"
      ]
    },
    {
      "cell_type": "markdown",
      "metadata": {
        "id": "P3Muu2WxBf_i",
        "colab_type": "text"
      },
      "source": [
        "#Query Classification on Steroids with BERT\n",
        "\n",
        "1. Setup\n",
        "2. Training\n",
        "3. Serve model"
      ]
    },
    {
      "cell_type": "markdown",
      "metadata": {
        "id": "QsSuzhK6D7c0",
        "colab_type": "text"
      },
      "source": [
        "##Setup\n",
        "1. Change Runtime to GPU\n",
        "2. Install Tensorflow GPU\n",
        "3. Install Ludwig\n",
        "4. Download ATIS dataset to local machine\n",
        "5. Connect Google Drive\n",
        "4. Install Ngrok "
      ]
    },
    {
      "cell_type": "code",
      "metadata": {
        "id": "Gx6kxJXVBS68",
        "colab_type": "code",
        "colab": {}
      },
      "source": [
        ""
      ],
      "execution_count": 0,
      "outputs": []
    }
  ]
}